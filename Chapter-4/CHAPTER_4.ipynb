{
  "nbformat": 4,
  "nbformat_minor": 0,
  "metadata": {
    "colab": {
      "name": "CHAPER 4.ipynb",
      "provenance": []
    },
    "kernelspec": {
      "name": "python3",
      "display_name": "Python 3"
    },
    "language_info": {
      "name": "python"
    }
  },
  "cells": [
    {
      "cell_type": "markdown",
      "metadata": {
        "id": "DtbodisUJuaQ"
      },
      "source": [
        "# NumPy Basics: Arrays and Vectorized Computation\n",
        "\n",
        "> ![image.png](data:image/png;base64,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)\n",
        "\n",
        "\n",
        "\n",
        "---\n",
        "\n"
      ]
    },
    {
      "cell_type": "markdown",
      "metadata": {
        "id": "QvSQbn1VJ9w7"
      },
      "source": [
        "NumPy, short for Numerical Python, is one of the most important foundational packages for numerical computing in Python. Most computational packages providing scientific functionality use NumPy’s array objects as the lingua franca for data exchange. \n",
        "\n",
        "<u>Here are some of the things you’ll find in NumPy:</u>  \n",
        "* ndarray, an efficient multidimensional array providing fast array-oriented arithmetic\n",
        "operations and flexible broadcasting capabilities.\n",
        "* Mathematical functions for fast operations on entire arrays of data without having\n",
        "to write loops.\n",
        "* Tools for reading/writing array data to disk and working with memory-mapped\n",
        "files.\n",
        "* Linear algebra, random number generation, and Fourier transform capabilities.\n",
        "* A C API for connecting NumPy with libraries written in C, C++, or FORTRAN  \n",
        "\n",
        "One of the reasons NumPy is so important for numerical computations in Python is\n",
        "because it is designed for efficiency on large arrays of data. There are a number of reasons for this:\n",
        "* NumPy internally stores data in a contiguous block of memory, independent of\n",
        "other built-in Python objects. NumPy’s library of algorithms written in the C language\n",
        "can operate on this memory without any type checking or other overhead.\n",
        "NumPy arrays also use much less memory than built-in Python sequences.\n",
        "* NumPy operations perform complex computations on entire arrays without the\n",
        "need for Python `for` loops."
      ]
    },
    {
      "cell_type": "markdown",
      "metadata": {
        "id": "5V_jjs-3Lbdo"
      },
      "source": [
        "To give you an idea of the performance difference, consider a NumPy array of one\n",
        "million integers, and the equivalent Python list"
      ]
    },
    {
      "cell_type": "code",
      "metadata": {
        "id": "s30azjO2J0qG"
      },
      "source": [
        "import numpy as np"
      ],
      "execution_count": 1,
      "outputs": []
    },
    {
      "cell_type": "code",
      "metadata": {
        "id": "kYiVO5EULhQz"
      },
      "source": [
        "my_arr = np.arange(1000000)"
      ],
      "execution_count": 2,
      "outputs": []
    },
    {
      "cell_type": "code",
      "metadata": {
        "id": "oX92SFcpLqtw"
      },
      "source": [
        "my_list = list(range(1000000))"
      ],
      "execution_count": 3,
      "outputs": []
    },
    {
      "cell_type": "markdown",
      "metadata": {
        "id": "B6z66yH5L5m_"
      },
      "source": [
        "Now let's multiply each sequence by 2"
      ]
    },
    {
      "cell_type": "code",
      "metadata": {
        "colab": {
          "base_uri": "https://localhost:8080/"
        },
        "id": "LGZZo57cMAR6",
        "outputId": "b4ca51fd-e84a-485e-c7cd-58235e47607b"
      },
      "source": [
        "%time for _ in range(10): my_arr2 = my_arr * 2"
      ],
      "execution_count": 4,
      "outputs": [
        {
          "output_type": "stream",
          "text": [
            "CPU times: user 12.1 ms, sys: 6.04 ms, total: 18.2 ms\n",
            "Wall time: 22.2 ms\n"
          ],
          "name": "stdout"
        }
      ]
    },
    {
      "cell_type": "code",
      "metadata": {
        "colab": {
          "base_uri": "https://localhost:8080/"
        },
        "id": "2spiHtNYMV6w",
        "outputId": "e3d06da4-084b-4753-97b1-fd2b9bb607fe"
      },
      "source": [
        "%time for _ in range(10): [x *2 for x in my_list]"
      ],
      "execution_count": 5,
      "outputs": [
        {
          "output_type": "stream",
          "text": [
            "CPU times: user 772 ms, sys: 142 ms, total: 913 ms\n",
            "Wall time: 920 ms\n"
          ],
          "name": "stdout"
        }
      ]
    },
    {
      "cell_type": "markdown",
      "metadata": {
        "id": "jdu3WgaWMrYr"
      },
      "source": [
        "NumPy-based algorithms are generally 10 to 100 times faster (or more) than their pure Python counterparts and use significantly less memory."
      ]
    },
    {
      "cell_type": "markdown",
      "metadata": {
        "id": "tNusH0llM8Ui"
      },
      "source": [
        "## 4.1 The NumPy ndarray: A Multidimensional Array Object  \n",
        "\n",
        "One of the key features of NumPy is its N-dimensional array object, or ndarray,\n",
        "which is a fast, flexible container for large datasets in Python. Arrays enable you to\n",
        "perform mathematical operations on whole blocks of data using similar syntax to the\n",
        "equivalent operations between scalar elements.  \n",
        "To give you a flavor of how NumPy enables batch computations with similar syntax\n",
        "to scalar values on built-in Python objects, I first import NumPy and generate a small\n",
        "array of random data"
      ]
    },
    {
      "cell_type": "code",
      "metadata": {
        "id": "z3qEudZmOvGw"
      },
      "source": [
        "data = np.random.randn(2, 3)"
      ],
      "execution_count": 6,
      "outputs": []
    },
    {
      "cell_type": "code",
      "metadata": {
        "colab": {
          "base_uri": "https://localhost:8080/"
        },
        "id": "PU-Vkm4fO0Vs",
        "outputId": "6d60a889-22d3-4135-e3b9-88c1abb61fef"
      },
      "source": [
        "data"
      ],
      "execution_count": 7,
      "outputs": [
        {
          "output_type": "execute_result",
          "data": {
            "text/plain": [
              "array([[-0.03458567, -0.17852923,  1.68502181],\n",
              "       [-1.25021354, -0.34515004,  1.28653887]])"
            ]
          },
          "metadata": {
            "tags": []
          },
          "execution_count": 7
        }
      ]
    },
    {
      "cell_type": "code",
      "metadata": {
        "colab": {
          "base_uri": "https://localhost:8080/"
        },
        "id": "WE4MobWxO1Fl",
        "outputId": "b9121037-31a8-49e6-d188-97f56795bb11"
      },
      "source": [
        "data * 10"
      ],
      "execution_count": 8,
      "outputs": [
        {
          "output_type": "execute_result",
          "data": {
            "text/plain": [
              "array([[ -0.34585668,  -1.78529235,  16.85021814],\n",
              "       [-12.50213539,  -3.45150037,  12.86538869]])"
            ]
          },
          "metadata": {
            "tags": []
          },
          "execution_count": 8
        }
      ]
    },
    {
      "cell_type": "code",
      "metadata": {
        "colab": {
          "base_uri": "https://localhost:8080/"
        },
        "id": "Aly4KHvMO6gE",
        "outputId": "fe33475e-f01c-481b-d278-fcae3a02d5b1"
      },
      "source": [
        "data + data"
      ],
      "execution_count": 9,
      "outputs": [
        {
          "output_type": "execute_result",
          "data": {
            "text/plain": [
              "array([[-0.06917134, -0.35705847,  3.37004363],\n",
              "       [-2.50042708, -0.69030007,  2.57307774]])"
            ]
          },
          "metadata": {
            "tags": []
          },
          "execution_count": 9
        }
      ]
    },
    {
      "cell_type": "code",
      "metadata": {
        "colab": {
          "base_uri": "https://localhost:8080/"
        },
        "id": "PhfZlYwqO__X",
        "outputId": "1fbc8074-61f7-4c7b-fdb6-b9dfd3bfe1c3"
      },
      "source": [
        "data.shape"
      ],
      "execution_count": 10,
      "outputs": [
        {
          "output_type": "execute_result",
          "data": {
            "text/plain": [
              "(2, 3)"
            ]
          },
          "metadata": {
            "tags": []
          },
          "execution_count": 10
        }
      ]
    },
    {
      "cell_type": "code",
      "metadata": {
        "colab": {
          "base_uri": "https://localhost:8080/"
        },
        "id": "6EVJPZ4CPQPK",
        "outputId": "54541193-211b-45e9-d4d7-681f5ce6131f"
      },
      "source": [
        "data.dtype"
      ],
      "execution_count": 11,
      "outputs": [
        {
          "output_type": "execute_result",
          "data": {
            "text/plain": [
              "dtype('float64')"
            ]
          },
          "metadata": {
            "tags": []
          },
          "execution_count": 11
        }
      ]
    },
    {
      "cell_type": "code",
      "metadata": {
        "id": "BV254l4xPRfA"
      },
      "source": [
        ""
      ],
      "execution_count": 11,
      "outputs": []
    },
    {
      "cell_type": "markdown",
      "metadata": {
        "id": "BW7SoenMPoIB"
      },
      "source": [
        "### Creating ndarrays  \n",
        "\n",
        "The easiest way to create an array is to use the array function. This accepts any\n",
        "sequence-like object (including other arrays) and produces a new NumPy array containing\n",
        "the passed data. For example, a list is a good candidate for conversion"
      ]
    },
    {
      "cell_type": "code",
      "metadata": {
        "id": "4BZ3Hg8OP4fk"
      },
      "source": [
        "data1 = [6, 7.5, 8, 0, 1]"
      ],
      "execution_count": 12,
      "outputs": []
    },
    {
      "cell_type": "code",
      "metadata": {
        "id": "YLJ8TAypQD0P"
      },
      "source": [
        "arr1 = np.array(data1)"
      ],
      "execution_count": 13,
      "outputs": []
    },
    {
      "cell_type": "code",
      "metadata": {
        "colab": {
          "base_uri": "https://localhost:8080/"
        },
        "id": "k6LebGjUQbpe",
        "outputId": "0fd4f518-820a-4fa7-ffdb-e87256e921c3"
      },
      "source": [
        "arr1"
      ],
      "execution_count": 14,
      "outputs": [
        {
          "output_type": "execute_result",
          "data": {
            "text/plain": [
              "array([6. , 7.5, 8. , 0. , 1. ])"
            ]
          },
          "metadata": {
            "tags": []
          },
          "execution_count": 14
        }
      ]
    },
    {
      "cell_type": "markdown",
      "metadata": {
        "id": "hcInOgXXZrSZ"
      },
      "source": [
        "Nested sequences, like a list of equal-length lists, will be converted into a multidimensional\n",
        "array"
      ]
    },
    {
      "cell_type": "code",
      "metadata": {
        "id": "lYvFwSv4Qdrm"
      },
      "source": [
        "data2 = [[1, 2, 3, 4], [5, 6, 7, 8]]"
      ],
      "execution_count": 15,
      "outputs": []
    },
    {
      "cell_type": "code",
      "metadata": {
        "colab": {
          "base_uri": "https://localhost:8080/"
        },
        "id": "a5WeUp9zZ2Ef",
        "outputId": "076e7b91-b6e2-4066-aa4c-2cbf45ded084"
      },
      "source": [
        "arr2 = np.array(data2)\n",
        "arr2"
      ],
      "execution_count": 16,
      "outputs": [
        {
          "output_type": "execute_result",
          "data": {
            "text/plain": [
              "array([[1, 2, 3, 4],\n",
              "       [5, 6, 7, 8]])"
            ]
          },
          "metadata": {
            "tags": []
          },
          "execution_count": 16
        }
      ]
    },
    {
      "cell_type": "code",
      "metadata": {
        "colab": {
          "base_uri": "https://localhost:8080/"
        },
        "id": "ShHN-LIZZ8CU",
        "outputId": "6857394c-95d5-4dfc-dd84-881b6d06cbdd"
      },
      "source": [
        "print('Shape of arr2 ----> ',arr2.shape)\n",
        "print('arr2 no. of dimensions ----> ',arr2.ndim)\n",
        "print('Data type of arr2 ----> ',arr2.dtype)"
      ],
      "execution_count": 17,
      "outputs": [
        {
          "output_type": "stream",
          "text": [
            "Shape of arr2 ---->  (2, 4)\n",
            "arr2 no. of dimensions ---->  2\n",
            "Data type of arr2 ---->  int64\n"
          ],
          "name": "stdout"
        }
      ]
    },
    {
      "cell_type": "markdown",
      "metadata": {
        "id": "HtNFm4upbDcW"
      },
      "source": [
        "In addition to np.array, there are a number of other functions for creating new\n",
        "arrays. As examples, zeros and ones create arrays of 0s or 1s, respectively, with a\n",
        "given length or shape. empty creates an array without initializing its values to any particular\n",
        "value. To create a higher dimensional array with these methods, pass a tuple\n",
        "for the shape"
      ]
    },
    {
      "cell_type": "code",
      "metadata": {
        "colab": {
          "base_uri": "https://localhost:8080/"
        },
        "id": "LlHkZNJgbaKz",
        "outputId": "b0d8af69-e14c-40af-f0f5-7bb1d217ece1"
      },
      "source": [
        "np.zeros(10)"
      ],
      "execution_count": 18,
      "outputs": [
        {
          "output_type": "execute_result",
          "data": {
            "text/plain": [
              "array([0., 0., 0., 0., 0., 0., 0., 0., 0., 0.])"
            ]
          },
          "metadata": {
            "tags": []
          },
          "execution_count": 18
        }
      ]
    },
    {
      "cell_type": "code",
      "metadata": {
        "colab": {
          "base_uri": "https://localhost:8080/"
        },
        "id": "c2YhIzQYbcL-",
        "outputId": "c65acfa4-7604-424e-fc0b-9d46c000e1e0"
      },
      "source": [
        "np.zeros((3, 6))"
      ],
      "execution_count": 19,
      "outputs": [
        {
          "output_type": "execute_result",
          "data": {
            "text/plain": [
              "array([[0., 0., 0., 0., 0., 0.],\n",
              "       [0., 0., 0., 0., 0., 0.],\n",
              "       [0., 0., 0., 0., 0., 0.]])"
            ]
          },
          "metadata": {
            "tags": []
          },
          "execution_count": 19
        }
      ]
    },
    {
      "cell_type": "code",
      "metadata": {
        "colab": {
          "base_uri": "https://localhost:8080/"
        },
        "id": "EX4R0rA9cDSh",
        "outputId": "1a8e41d3-6024-4615-b9ec-e766e8df2b41"
      },
      "source": [
        "np.empty((2, 3, 6))"
      ],
      "execution_count": 20,
      "outputs": [
        {
          "output_type": "execute_result",
          "data": {
            "text/plain": [
              "array([[[4.67125004e-310, 0.00000000e+000, 0.00000000e+000,\n",
              "         0.00000000e+000, 0.00000000e+000, 0.00000000e+000],\n",
              "        [0.00000000e+000, 0.00000000e+000, 0.00000000e+000,\n",
              "         0.00000000e+000, 0.00000000e+000, 0.00000000e+000],\n",
              "        [0.00000000e+000, 0.00000000e+000, 0.00000000e+000,\n",
              "         0.00000000e+000, 0.00000000e+000, 0.00000000e+000]],\n",
              "\n",
              "       [[0.00000000e+000, 0.00000000e+000, 0.00000000e+000,\n",
              "         0.00000000e+000, 0.00000000e+000, 0.00000000e+000],\n",
              "        [0.00000000e+000, 0.00000000e+000, 0.00000000e+000,\n",
              "         0.00000000e+000, 0.00000000e+000, 0.00000000e+000],\n",
              "        [0.00000000e+000, 0.00000000e+000, 0.00000000e+000,\n",
              "         0.00000000e+000, 0.00000000e+000, 0.00000000e+000]]])"
            ]
          },
          "metadata": {
            "tags": []
          },
          "execution_count": 20
        }
      ]
    },
    {
      "cell_type": "code",
      "metadata": {
        "colab": {
          "base_uri": "https://localhost:8080/"
        },
        "id": "FUrrh-Sy3e4P",
        "outputId": "bb960e3f-43a3-45ac-9432-f9c86ce08a35"
      },
      "source": [
        "np.arange(15)"
      ],
      "execution_count": 21,
      "outputs": [
        {
          "output_type": "execute_result",
          "data": {
            "text/plain": [
              "array([ 0,  1,  2,  3,  4,  5,  6,  7,  8,  9, 10, 11, 12, 13, 14])"
            ]
          },
          "metadata": {
            "tags": []
          },
          "execution_count": 21
        }
      ]
    },
    {
      "cell_type": "markdown",
      "metadata": {
        "id": "1tf618xvz9Kv"
      },
      "source": [
        "See below table for a short list of standard array creation functions. Since NumPy is\n",
        "focused on numerical computing, the data type, if not specified, will in many cases be\n",
        "float64\n",
        "\n",
        "| Function      | Description |\n",
        "| ------------- | ----------- |\n",
        "| array | Convert input data (list, tuple, array, or other sequence type) to an ndarray either by inferring a dtype or explicitly specifying a dtype; copies the input data by default |\n",
        "| asarray | Convert input to ndarray, but do not copy if the input is already an ndarray |\n",
        "| arange | Like the built-in range but returns an ndarray instead of a list |\n",
        "| ones, ones_like | Produce an array of all 1s with the given shape and dtype; ones_like takes another array and produces a ones array of the same shape and dtype |\n",
        "| zeros, zeros_like | Like ones and ones_like but producing arrays of 0s instead |\n",
        "| empty, empty_like | Create new arrays by allocating new memory, but do not populate with any values like ones and zeros |\n",
        "| full, full_like | Produce an array of the given shape and dtype with all values set to the indicated “fill value” full_like takes another array and produces a filled array of the same shape and dtype |\n",
        "| eye, identity | Create a square N × N identity matrix (1s on the diagonal and 0s elsewhere) |\n"
      ]
    },
    {
      "cell_type": "code",
      "metadata": {
        "colab": {
          "base_uri": "https://localhost:8080/"
        },
        "id": "fkgD6rUo4J7x",
        "outputId": "0bd550c0-ad6b-4632-9c89-70bf711854c6"
      },
      "source": [
        "type(arr2)"
      ],
      "execution_count": 23,
      "outputs": [
        {
          "output_type": "execute_result",
          "data": {
            "text/plain": [
              "numpy.ndarray"
            ]
          },
          "metadata": {
            "tags": []
          },
          "execution_count": 23
        }
      ]
    }
  ]
}
